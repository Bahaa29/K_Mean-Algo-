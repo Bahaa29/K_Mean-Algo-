{
 "cells": [
  {
   "cell_type": "code",
   "execution_count": 1,
   "metadata": {},
   "outputs": [],
   "source": [
    "import pandas as pd\n",
    "import numpy as np\n",
    "import matplotlib.pyplot as plt\n",
    "import warnings\n",
    "import random\n",
    "warnings.filterwarnings(\"ignore\")"
   ]
  },
  {
   "cell_type": "code",
   "execution_count": 2,
   "metadata": {},
   "outputs": [],
   "source": [
    "data = pd.read_csv('Power_Consumption.csv')"
   ]
  },
  {
   "cell_type": "code",
   "execution_count": 3,
   "metadata": {},
   "outputs": [
    {
     "data": {
      "text/html": [
       "<div>\n",
       "<style scoped>\n",
       "    .dataframe tbody tr th:only-of-type {\n",
       "        vertical-align: middle;\n",
       "    }\n",
       "\n",
       "    .dataframe tbody tr th {\n",
       "        vertical-align: top;\n",
       "    }\n",
       "\n",
       "    .dataframe thead th {\n",
       "        text-align: right;\n",
       "    }\n",
       "</style>\n",
       "<table border=\"1\" class=\"dataframe\">\n",
       "  <thead>\n",
       "    <tr style=\"text-align: right;\">\n",
       "      <th></th>\n",
       "      <th>Id</th>\n",
       "      <th>Global_active_power</th>\n",
       "      <th>Global_reactive_power</th>\n",
       "      <th>Voltage</th>\n",
       "      <th>Global_intensity</th>\n",
       "      <th>Sub_metering_1</th>\n",
       "      <th>Sub_metering_2</th>\n",
       "      <th>Sub_metering_3</th>\n",
       "    </tr>\n",
       "  </thead>\n",
       "  <tbody>\n",
       "    <tr>\n",
       "      <th>0</th>\n",
       "      <td>1</td>\n",
       "      <td>4.216</td>\n",
       "      <td>0.418</td>\n",
       "      <td>234.84</td>\n",
       "      <td>18.4</td>\n",
       "      <td>0</td>\n",
       "      <td>1</td>\n",
       "      <td>17</td>\n",
       "    </tr>\n",
       "    <tr>\n",
       "      <th>1</th>\n",
       "      <td>2</td>\n",
       "      <td>5.360</td>\n",
       "      <td>0.436</td>\n",
       "      <td>233.63</td>\n",
       "      <td>23.0</td>\n",
       "      <td>0</td>\n",
       "      <td>1</td>\n",
       "      <td>16</td>\n",
       "    </tr>\n",
       "    <tr>\n",
       "      <th>2</th>\n",
       "      <td>3</td>\n",
       "      <td>5.374</td>\n",
       "      <td>0.498</td>\n",
       "      <td>233.29</td>\n",
       "      <td>23.0</td>\n",
       "      <td>0</td>\n",
       "      <td>2</td>\n",
       "      <td>17</td>\n",
       "    </tr>\n",
       "    <tr>\n",
       "      <th>3</th>\n",
       "      <td>4</td>\n",
       "      <td>5.388</td>\n",
       "      <td>0.502</td>\n",
       "      <td>233.74</td>\n",
       "      <td>23.0</td>\n",
       "      <td>0</td>\n",
       "      <td>1</td>\n",
       "      <td>17</td>\n",
       "    </tr>\n",
       "    <tr>\n",
       "      <th>4</th>\n",
       "      <td>5</td>\n",
       "      <td>3.666</td>\n",
       "      <td>0.528</td>\n",
       "      <td>235.68</td>\n",
       "      <td>15.8</td>\n",
       "      <td>0</td>\n",
       "      <td>1</td>\n",
       "      <td>17</td>\n",
       "    </tr>\n",
       "  </tbody>\n",
       "</table>\n",
       "</div>"
      ],
      "text/plain": [
       "   Id  Global_active_power  Global_reactive_power  Voltage  Global_intensity  \\\n",
       "0   1                4.216                  0.418   234.84              18.4   \n",
       "1   2                5.360                  0.436   233.63              23.0   \n",
       "2   3                5.374                  0.498   233.29              23.0   \n",
       "3   4                5.388                  0.502   233.74              23.0   \n",
       "4   5                3.666                  0.528   235.68              15.8   \n",
       "\n",
       "   Sub_metering_1  Sub_metering_2  Sub_metering_3  \n",
       "0               0               1              17  \n",
       "1               0               1              16  \n",
       "2               0               2              17  \n",
       "3               0               1              17  \n",
       "4               0               1              17  "
      ]
     },
     "execution_count": 3,
     "metadata": {},
     "output_type": "execute_result"
    }
   ],
   "source": [
    "data.head()"
   ]
  },
  {
   "cell_type": "code",
   "execution_count": 4,
   "metadata": {},
   "outputs": [],
   "source": [
    "df=data[[\"Voltage\",\"Global_intensity\"]]"
   ]
  },
  {
   "cell_type": "code",
   "execution_count": 5,
   "metadata": {},
   "outputs": [
    {
     "data": {
      "text/html": [
       "<div>\n",
       "<style scoped>\n",
       "    .dataframe tbody tr th:only-of-type {\n",
       "        vertical-align: middle;\n",
       "    }\n",
       "\n",
       "    .dataframe tbody tr th {\n",
       "        vertical-align: top;\n",
       "    }\n",
       "\n",
       "    .dataframe thead th {\n",
       "        text-align: right;\n",
       "    }\n",
       "</style>\n",
       "<table border=\"1\" class=\"dataframe\">\n",
       "  <thead>\n",
       "    <tr style=\"text-align: right;\">\n",
       "      <th></th>\n",
       "      <th>Voltage</th>\n",
       "      <th>Global_intensity</th>\n",
       "    </tr>\n",
       "  </thead>\n",
       "  <tbody>\n",
       "    <tr>\n",
       "      <th>0</th>\n",
       "      <td>234.84</td>\n",
       "      <td>18.4</td>\n",
       "    </tr>\n",
       "    <tr>\n",
       "      <th>1</th>\n",
       "      <td>233.63</td>\n",
       "      <td>23.0</td>\n",
       "    </tr>\n",
       "    <tr>\n",
       "      <th>2</th>\n",
       "      <td>233.29</td>\n",
       "      <td>23.0</td>\n",
       "    </tr>\n",
       "    <tr>\n",
       "      <th>3</th>\n",
       "      <td>233.74</td>\n",
       "      <td>23.0</td>\n",
       "    </tr>\n",
       "    <tr>\n",
       "      <th>4</th>\n",
       "      <td>235.68</td>\n",
       "      <td>15.8</td>\n",
       "    </tr>\n",
       "  </tbody>\n",
       "</table>\n",
       "</div>"
      ],
      "text/plain": [
       "   Voltage  Global_intensity\n",
       "0   234.84              18.4\n",
       "1   233.63              23.0\n",
       "2   233.29              23.0\n",
       "3   233.74              23.0\n",
       "4   235.68              15.8"
      ]
     },
     "execution_count": 5,
     "metadata": {},
     "output_type": "execute_result"
    }
   ],
   "source": [
    "df.head()\n"
   ]
  },
  {
   "cell_type": "code",
   "execution_count": 6,
   "metadata": {},
   "outputs": [
    {
     "data": {
      "image/png": "[encoded data removed]",
      "text/plain": [
       "<Figure size 432x288 with 1 Axes>"
      ]
     },
     "metadata": {
      "needs_background": "light"
     },
     "output_type": "display_data"
    }
   ],
   "source": [
    "plt.scatter(df.iloc[:,0],df.iloc[:,1])\n",
    "plt.xlabel('Voltage')\n",
    "plt.ylabel('Global_intensity')\n",
    "plt.title('Plot of Unclustered Data')\n",
    "plt.show()"
   ]
  },
  {
   "cell_type": "code",
   "execution_count": 7,
   "metadata": {},
   "outputs": [
    {
     "name": "stdout",
     "output_type": "stream",
     "text": [
      "Randomly selected points as random_centroids: [[233.64  10.6 ]\n",
      " [235.84  13.6 ]\n",
      " [234.17  16.4 ]]\n"
     ]
    }
   ],
   "source": [
    "num_of_centriod = 3\n",
    "centroids=[]\n",
    "init_centroids = random.sample(range(0, len(df)), num_of_centriod)\n",
    "for i in init_centroids:\n",
    "        centroids.append(df.loc[i])\n",
    "centroids = np.array(centroids)\n",
    "print('Randomly selected points as random_centroids:',centroids)"
   ]
  },
  {
   "cell_type": "code",
   "execution_count": 8,
   "metadata": {},
   "outputs": [
    {
     "data": {
      "image/png": "[encoded data removed]",
      "text/plain": [
       "<Figure size 360x360 with 1 Axes>"
      ]
     },
     "metadata": {
      "needs_background": "light"
     },
     "output_type": "display_data"
    }
   ],
   "source": [
    "plt.figure(figsize=(5, 5))\n",
    "plt.scatter(df.iloc[:,0], df.iloc[:,1], color='cyan')\n",
    "length = len(centroids)\n",
    "colors1=['r','yellow','black','g','b','cyan']\n",
    "for i in range(length):\n",
    "    plt.scatter(*centroids[i],color=colors1[i])\n",
    "plt.xlabel('Voltage')\n",
    "plt.ylabel('Global_intensity')\n",
    "plt.show()"
   ]
  },
  {
   "cell_type": "code",
   "execution_count": 9,
   "metadata": {},
   "outputs": [],
   "source": [
    "def assignment(df_new,random_centroids):\n",
    "    for i in range(length) :\n",
    "        #df_new['Distance from Centroid {}'.format(i)]=(np.sqrt((df_new.iloc[:,0] - random_centroids[i][0]) ** 2 + (df_new.iloc[:,1] - random_centroids[i][1]) ** 2))\n",
    "        df_new['Distance from Centroid {}'.format(i)]=np.abs((df_new.iloc[:,0] - random_centroids[i][0])) + np.abs(df_new.iloc[:,1] - random_centroids[i][1]) \n",
    "    list1=[]\n",
    "    list2=[]\n",
    "    for a,b,c in zip(df_new['Distance from Centroid 0'],df_new['Distance from Centroid 1'],df_new['Distance from Centroid 2']):\n",
    "        d = min(a,b,c)\n",
    "        if d == a:\n",
    "             list1.append(0)\n",
    "             list2.append('r')\n",
    "        elif d == b:\n",
    "            list1.append(1)\n",
    "            list2.append('g')\n",
    "        else:\n",
    "            list1.append(2)\n",
    "            list2.append('b')\n",
    "    df_new['Closest_Centroid'] = list1\n",
    "    df_new['Color']=list2\n",
    "    return df_new "
   ]
  },
  {
   "cell_type": "code",
   "execution_count": 10,
   "metadata": {},
   "outputs": [
    {
     "data": {
      "text/html": [
       "<div>\n",
       "<style scoped>\n",
       "    .dataframe tbody tr th:only-of-type {\n",
       "        vertical-align: middle;\n",
       "    }\n",
       "\n",
       "    .dataframe tbody tr th {\n",
       "        vertical-align: top;\n",
       "    }\n",
       "\n",
       "    .dataframe thead th {\n",
       "        text-align: right;\n",
       "    }\n",
       "</style>\n",
       "<table border=\"1\" class=\"dataframe\">\n",
       "  <thead>\n",
       "    <tr style=\"text-align: right;\">\n",
       "      <th></th>\n",
       "      <th>Voltage</th>\n",
       "      <th>Global_intensity</th>\n",
       "      <th>Distance from Centroid 0</th>\n",
       "      <th>Distance from Centroid 1</th>\n",
       "      <th>Distance from Centroid 2</th>\n",
       "      <th>Closest_Centroid</th>\n",
       "      <th>Color</th>\n",
       "    </tr>\n",
       "  </thead>\n",
       "  <tbody>\n",
       "    <tr>\n",
       "      <th>0</th>\n",
       "      <td>234.84</td>\n",
       "      <td>18.4</td>\n",
       "      <td>9.00</td>\n",
       "      <td>5.80</td>\n",
       "      <td>2.67</td>\n",
       "      <td>2</td>\n",
       "      <td>b</td>\n",
       "    </tr>\n",
       "    <tr>\n",
       "      <th>1</th>\n",
       "      <td>233.63</td>\n",
       "      <td>23.0</td>\n",
       "      <td>12.41</td>\n",
       "      <td>11.61</td>\n",
       "      <td>7.14</td>\n",
       "      <td>2</td>\n",
       "      <td>b</td>\n",
       "    </tr>\n",
       "    <tr>\n",
       "      <th>2</th>\n",
       "      <td>233.29</td>\n",
       "      <td>23.0</td>\n",
       "      <td>12.75</td>\n",
       "      <td>11.95</td>\n",
       "      <td>7.48</td>\n",
       "      <td>2</td>\n",
       "      <td>b</td>\n",
       "    </tr>\n",
       "    <tr>\n",
       "      <th>3</th>\n",
       "      <td>233.74</td>\n",
       "      <td>23.0</td>\n",
       "      <td>12.50</td>\n",
       "      <td>11.50</td>\n",
       "      <td>7.03</td>\n",
       "      <td>2</td>\n",
       "      <td>b</td>\n",
       "    </tr>\n",
       "    <tr>\n",
       "      <th>4</th>\n",
       "      <td>235.68</td>\n",
       "      <td>15.8</td>\n",
       "      <td>7.24</td>\n",
       "      <td>2.36</td>\n",
       "      <td>2.11</td>\n",
       "      <td>2</td>\n",
       "      <td>b</td>\n",
       "    </tr>\n",
       "  </tbody>\n",
       "</table>\n",
       "</div>"
      ],
      "text/plain": [
       "   Voltage  Global_intensity  Distance from Centroid 0  \\\n",
       "0   234.84              18.4                      9.00   \n",
       "1   233.63              23.0                     12.41   \n",
       "2   233.29              23.0                     12.75   \n",
       "3   233.74              23.0                     12.50   \n",
       "4   235.68              15.8                      7.24   \n",
       "\n",
       "   Distance from Centroid 1  Distance from Centroid 2  Closest_Centroid Color  \n",
       "0                      5.80                      2.67                 2     b  \n",
       "1                     11.61                      7.14                 2     b  \n",
       "2                     11.95                      7.48                 2     b  \n",
       "3                     11.50                      7.03                 2     b  \n",
       "4                      2.36                      2.11                 2     b  "
      ]
     },
     "execution_count": 10,
     "metadata": {},
     "output_type": "execute_result"
    }
   ],
   "source": [
    "df_new = assignment(df,centroids)\n",
    "df_new.head()"
   ]
  },
  {
   "cell_type": "code",
   "execution_count": 11,
   "metadata": {},
   "outputs": [],
   "source": [
    "def update(parameter):\n",
    "    for i in range(length):\n",
    "        centroids[i][0] = np.mean(df_new[df_new['Closest_Centroid'] == i]['Voltage'])\n",
    "        centroids[i][1] = np.mean(df_new[df_new['Closest_Centroid'] == i]['Global_intensity'])\n",
    "       \n",
    "    return parameter"
   ]
  },
  {
   "cell_type": "code",
   "execution_count": 12,
   "metadata": {},
   "outputs": [
    {
     "data": {
      "text/plain": [
       "array([[235.1075    ,  10.2375    ],\n",
       "       [234.28561644,  13.59178082],\n",
       "       [233.4972973 ,  17.27207207]])"
      ]
     },
     "execution_count": 12,
     "metadata": {},
     "output_type": "execute_result"
    }
   ],
   "source": [
    "centroids = update(centroids)\n",
    "centroids"
   ]
  },
  {
   "cell_type": "code",
   "execution_count": 13,
   "metadata": {},
   "outputs": [],
   "source": [
    "#List=np.array(List)\n",
    "#List"
   ]
  },
  {
   "cell_type": "code",
   "execution_count": 14,
   "metadata": {},
   "outputs": [
    {
     "name": "stdout",
     "output_type": "stream",
     "text": [
      "Old Centroid [[235.11  10.24]\n",
      " [234.29  13.59]\n",
      " [233.5   17.27]]\n",
      "New Centroid [[235.11  10.24]\n",
      " [234.29  13.59]\n",
      " [233.5   17.27]]\n",
      "True\n"
     ]
    },
    {
     "data": {
      "image/png": "[encoded data removed]",
      "text/plain": [
       "<Figure size 360x360 with 1 Axes>"
      ]
     },
     "metadata": {
      "needs_background": "light"
     },
     "output_type": "display_data"
    },
    {
     "name": "stdout",
     "output_type": "stream",
     "text": [
      "2\n"
     ]
    }
   ],
   "source": [
    "count=1\n",
    "while True:\n",
    "    old_random_centroids = np.round(centroids,2)\n",
    "    print('Old Centroid',old_random_centroids)\n",
    "    count+=1\n",
    "    centroids= update(centroids)\n",
    "    new_centroids = np.round(centroids,2)\n",
    "    print('New Centroid',new_centroids)\n",
    "\n",
    "    df_new = assignment(df, new_centroids)\n",
    "    result=np.allclose(old_random_centroids,new_centroids)\n",
    "    print(result)\n",
    "    if result == True:\n",
    "        plt.figure(figsize=(5, 5))\n",
    "        plt.scatter(df.iloc[:,0], df.iloc[:,1], color='cyan')\n",
    "        length = len(centroids)\n",
    "        colors1=['r','yellow','black','g','b','cyan']\n",
    "        for i in range(length):\n",
    "            plt.scatter(*centroids[i],color=colors1[i])\n",
    "        plt.xlabel('Voltage')\n",
    "        plt.ylabel('Global_intensity')\n",
    "        plt.show()\n",
    "        break\n",
    "print(count)\n"
   ]
  },
  {
   "cell_type": "code",
   "execution_count": 15,
   "metadata": {},
   "outputs": [
    {
     "name": "stdout",
     "output_type": "stream",
     "text": [
      "21\n",
      "21\n"
     ]
    },
    {
     "data": {
      "image/png": "[encoded data removed]",
      "text/plain": [
       "<Figure size 432x288 with 1 Axes>"
      ]
     },
     "metadata": {
      "needs_background": "light"
     },
     "output_type": "display_data"
    }
   ],
   "source": [
    "List=[]\n",
    "for i in range(length):\n",
    "    List=df_new.loc[df_new['Closest_Centroid'] == 0]\n",
    "print(len(List))\n",
    "col=[\"Voltage\",\"Global_intensity\"]\n",
    "List.boxplot(col)\n",
    "\n",
    "for x in ['Voltage']:\n",
    "    q75,q25 = np.percentile(List.loc[:,x],[75,25])\n",
    "    intr_qr = q75-q25\n",
    " \n",
    "    max = q75+(1.5*intr_qr)\n",
    "    min = q25-(1.5*intr_qr)\n",
    " \n",
    "    List.loc[List[x] < min,x] = np.nan\n",
    "    List.loc[List[x] > max,x] = np.nan\n",
    "for y in ['Global_intensity']:\n",
    "    q75,q25 = np.percentile(List.loc[:,y],[75,25])\n",
    "    intr_qr = q75-q25\n",
    " \n",
    "    max = q75+(1.5*intr_qr)\n",
    "    min = q25-(1.5*intr_qr)\n",
    " \n",
    "    List.loc[List[y] < min,y] = np.nan\n",
    "    List.loc[List[y] > max,y] = np.nan\n",
    "List = List.dropna(axis = 0)\n",
    "print(len(List))"
   ]
  },
  {
   "cell_type": "code",
   "execution_count": 16,
   "metadata": {},
   "outputs": [
    {
     "name": "stdout",
     "output_type": "stream",
     "text": [
      "127\n",
      "114\n"
     ]
    },
    {
     "data": {
      "image/png": "[encoded data removed]",
      "text/plain": [
       "<Figure size 432x288 with 1 Axes>"
      ]
     },
     "metadata": {
      "needs_background": "light"
     },
     "output_type": "display_data"
    }
   ],
   "source": [
    "List2=[]\n",
    "for i in range(length):\n",
    "    List2=df_new.loc[df_new['Closest_Centroid'] == 1]\n",
    "#print(List2.head())\n",
    "print(len(List2))\n",
    "col=[\"Voltage\",\"Global_intensity\"]\n",
    "List2.boxplot(col)\n",
    "\n",
    "for x in ['Voltage']:\n",
    "    q75,q25 = np.percentile(List2.loc[:,x],[75,25])\n",
    "    intr_qr = q75-q25\n",
    " \n",
    "    max = q75+(1.5*intr_qr)\n",
    "    min = q25-(1.5*intr_qr)\n",
    " \n",
    "    List2.loc[List2[x] < min,x] = np.nan\n",
    "    List2.loc[List2[x] > max,x] = np.nan\n",
    "for y in ['Global_intensity']:\n",
    "    q75,q25 = np.percentile(List2.loc[:,y],[75,25])\n",
    "    intr_qr = q75-q25\n",
    " \n",
    "    max = q75+(1.5*intr_qr)\n",
    "    min = q25-(1.5*intr_qr)\n",
    " \n",
    "    List2.loc[List2[y] < min,y] = np.nan\n",
    "    List2.loc[List2[y] > max,y] = np.nan\n",
    "List2 = List2.dropna(axis = 0)\n",
    "print(len(List2))"
   ]
  },
  {
   "cell_type": "code",
   "execution_count": 17,
   "metadata": {},
   "outputs": [
    {
     "name": "stdout",
     "output_type": "stream",
     "text": [
      "52\n",
      "49\n"
     ]
    },
    {
     "data": {
      "image/png": "[encoded data removed]",
      "text/plain": [
       "<Figure size 432x288 with 1 Axes>"
      ]
     },
     "metadata": {
      "needs_background": "light"
     },
     "output_type": "display_data"
    }
   ],
   "source": [
    "List3=[]\n",
    "for i in range(length):\n",
    "    List3=df_new.loc[df_new['Closest_Centroid'] == 2]\n",
    "#print(List3.head())\n",
    "print(len(List3))\n",
    "col=[\"Voltage\",\"Global_intensity\"]\n",
    "List3.boxplot(col)\n",
    "\n",
    "for x in ['Voltage']:\n",
    "    q75,q25 = np.percentile(List3.loc[:,x],[75,25])\n",
    "    intr_qr = q75-q25\n",
    " \n",
    "    max = q75+(1.5*intr_qr)\n",
    "    min = q25-(1.5*intr_qr)\n",
    " \n",
    "    List3.loc[List3[x] < min,x] = np.nan\n",
    "    List3.loc[List3[x] > max,x] = np.nan\n",
    "for y in ['Global_intensity']:\n",
    "    q75,q25 = np.percentile(List3.loc[:,y],[75,25])\n",
    "    intr_qr = q75-q25\n",
    " \n",
    "    max = q75+(1.5*intr_qr)\n",
    "    min = q25-(1.5*intr_qr)\n",
    " \n",
    "    List3.loc[List3[y] < min,y] = np.nan\n",
    "    List3.loc[List3[y] > max,y] = np.nan\n",
    "List3 = List3.dropna(axis = 0)\n",
    "print(len(List3))"
   ]
  },
  {
   "cell_type": "code",
   "execution_count": null,
   "metadata": {},
   "outputs": [],
   "source": []
  },
  {
   "cell_type": "code",
   "execution_count": null,
   "metadata": {},
   "outputs": [],
   "source": []
  },
  {
   "cell_type": "code",
   "execution_count": null,
   "metadata": {},
   "outputs": [],
   "source": []
  }
 ],
 "metadata": {
  "kernelspec": {
   "display_name": "Python 3",
   "language": "python",
   "name": "python3"
  },
  "language_info": {
   "codemirror_mode": {
    "name": "ipython",
    "version": 3
   },
   "file_extension": ".py",
   "mimetype": "text/x-python",
   "name": "python",
   "nbconvert_exporter": "python",
   "pygments_lexer": "ipython3",
   "version": "3.8.5"
  }
 },
 "nbformat": 4,
 "nbformat_minor": 4
}
